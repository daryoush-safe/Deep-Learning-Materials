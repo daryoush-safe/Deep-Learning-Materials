{
 "cells": [
  {
   "cell_type": "markdown",
   "id": "f3cd17db",
   "metadata": {},
   "source": [
    "# Introduction"
   ]
  },
  {
   "cell_type": "markdown",
   "id": "d7561c1f",
   "metadata": {},
   "source": [
    "**Training Phases**\n",
    "\n",
    "- **Initialize Weights and Biases:** These values control how the network initially processes information (more details later)\n",
    "\n",
    "- **Forward-Pass:** Pass the input through the network to get an output\n",
    "\n",
    "- **Calculate the Error:** Compare the network’s output to the correct answer to measure the difference (called the ’loss’ – more details later)\n",
    "\n",
    "- **Back-Propagation:** Use the loss value to adjust the weights and biases to improve the network’s accuracy (more details later)\n",
    "\n",
    "<div style=\"text-align:center\">\n",
    "    <img src=\"../assets/training_phases.png\" alt=\"training phases visual\">\n",
    "</div>"
   ]
  },
  {
   "cell_type": "markdown",
   "id": "873ce18b",
   "metadata": {},
   "source": [
    "# Forward Propagation"
   ]
  },
  {
   "cell_type": "markdown",
   "id": "2caf33cc",
   "metadata": {},
   "source": [
    "**Definition:**  \n",
    "Pass we send input data through the network to make a prediction\n",
    "\n",
    "**Properties:**\n",
    "- Inaccurate at first\n",
    "- Improve using back-propagation {more details later}"
   ]
  },
  {
   "cell_type": "markdown",
   "id": "096d3532",
   "metadata": {},
   "source": [
    "The prediction is made by calculating **weighted sums** and applying an **activation function** in each layer:\n",
    "$$\n",
    "o(x) = \\alpha^{[L]} = \\sigma^{[L]} \\left(b^{[L]} + W^{[L]} \\sigma^{[L - 1]} \\left(\\cdots \\sigma^{[1]} \\left( b^{[1]} + W^{[1]}x \\right) \\cdots \\right) \\right)\n",
    "$$"
   ]
  },
  {
   "cell_type": "markdown",
   "id": "e647a403",
   "metadata": {},
   "source": [
    "- The goal is to adjust the network's parameters to improve the predictions\n",
    "- The **loss** is calculated **after the forward pass**, indicating how far off our predictions are from the true values\n",
    "\n",
    "*Continue in back-propagation.*"
   ]
  }
 ],
 "metadata": {
  "language_info": {
   "name": "python"
  }
 },
 "nbformat": 4,
 "nbformat_minor": 5
}
