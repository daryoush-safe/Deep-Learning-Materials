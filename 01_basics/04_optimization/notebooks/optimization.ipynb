{
 "cells": [
  {
   "cell_type": "markdown",
   "id": "7cd675e7",
   "metadata": {},
   "source": [
    "# Optimization"
   ]
  },
  {
   "cell_type": "markdown",
   "id": "0465da5f",
   "metadata": {},
   "source": [
    "# Newton's Optimization Method"
   ]
  },
  {
   "cell_type": "markdown",
   "id": "8c1584ce",
   "metadata": {},
   "source": [
    "# Momentum"
   ]
  },
  {
   "cell_type": "markdown",
   "id": "6fb6a7a0",
   "metadata": {},
   "source": [
    "## First Momentum"
   ]
  },
  {
   "cell_type": "markdown",
   "id": "28f95823",
   "metadata": {},
   "source": [
    "## Nestorov's Accelerated Gradient"
   ]
  },
  {
   "cell_type": "markdown",
   "id": "b298d885",
   "metadata": {},
   "source": [
    "## Adagrad"
   ]
  },
  {
   "cell_type": "markdown",
   "id": "79800aae",
   "metadata": {},
   "source": [
    "## RMS Prob"
   ]
  },
  {
   "cell_type": "markdown",
   "id": "83e928d1",
   "metadata": {},
   "source": [
    "## ADAM"
   ]
  },
  {
   "cell_type": "markdown",
   "id": "78ad2923",
   "metadata": {},
   "source": []
  }
 ],
 "metadata": {
  "language_info": {
   "name": "python"
  }
 },
 "nbformat": 4,
 "nbformat_minor": 5
}
